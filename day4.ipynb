{
 "cells": [
  {
   "cell_type": "markdown",
   "metadata": {},
   "source": [
    "# Problem 1\n",
    "Prompt the user \"Enter your weight (in kgs)\" and record weight\n",
    "\n",
    "Prompt the user \"What is your preferred unit of height? Type \"F\" for feet and \"M\" for meters\" and record the preference\n",
    "\n",
    "If user says \"F\" then prompt user \"You will enter your height given as feet and inches. First enter feet\" and record feet and then prompt user \"Now enter inches\" and record inches\n",
    "\n",
    "If user says \"M\" then prompt user \"What is your height in meters\" and record height in meters\n",
    "\n",
    "If user had chosen \"F\" then convert height into meters\n",
    "\n",
    "Compute BMI using the following formula\n",
    "\n",
    "BMI = weight / height ** 2\n",
    "\n",
    "Depending on the value of BMI, report the user's type given by the following table: ● BMI < 18.5 : UNDERWEIGHT ● 18.5 <= BMI < 25 : NORMAL ● 25 <= BMI < 30 : OVERWEIGHT ● BMI > 30 : VERY-OVERWEIGHT"
   ]
  },
  {
   "cell_type": "code",
   "execution_count": 3,
   "metadata": {},
   "outputs": [],
   "source": [
    "def input_single_integer(prompt):\n",
    "  ret = int(input(prompt))\n",
    "  return ret"
   ]
  },
  {
   "cell_type": "code",
   "execution_count": 4,
   "metadata": {},
   "outputs": [],
   "source": [
    "def input_single_float(prompt):\n",
    "  ret = float(input(prompt))\n",
    "  return ret"
   ]
  },
  {
   "cell_type": "code",
   "execution_count": 6,
   "metadata": {},
   "outputs": [
    {
     "name": "stdout",
     "output_type": "stream",
     "text": [
      "Enter your weight (in kgs)54\n",
      "What is your preferred unit of height f=feet else something for metersf\n",
      "Enter feet and inches. Lets start with feet5\n",
      "Now enter inches6\n",
      "My BMI value is  19.214914462886775\n",
      "NORMAL\n"
     ]
    }
   ],
   "source": [
    "weight = input_single_float(\"Enter your weight (in kgs)\")\n",
    "height_unit = input(\"What is your preferred unit of height f=feet else something for meters\")\n",
    "\n",
    "if height_unit == \"F\" or 'f':\n",
    "  feet = input_single_integer(\"Enter feet and inches. Lets start with feet\")\n",
    "  inches = input_single_integer(\"Now enter inches\")\n",
    "  meters = (feet + inches/12) * 0.3048\n",
    "else:\n",
    "  meters = input_single_float(\"Please enter your height in meters\")\n",
    "\n",
    "height = meters\n",
    "bmi = weight / height ** 2\n",
    "\n",
    "print(\"My BMI value is \", str(bmi))\n",
    "\n",
    "if bmi < 18.5:\n",
    "  print(\"UNDERWEIGHT\")\n",
    "elif bmi < 25:\n",
    "  print(\"NORMAL\")\n",
    "elif bmi < 30:\n",
    "  print(\"OVERWEIGHT\")\n",
    "else:\n",
    "  print(\"VERY-OVERWEIGHT\")"
   ]
  },
  {
   "cell_type": "code",
   "execution_count": null,
   "metadata": {},
   "outputs": [],
   "source": []
  },
  {
   "cell_type": "code",
   "execution_count": 2,
   "metadata": {},
   "outputs": [],
   "source": []
  },
  {
   "cell_type": "code",
   "execution_count": 3,
   "metadata": {},
   "outputs": [],
   "source": []
  },
  {
   "cell_type": "code",
   "execution_count": null,
   "metadata": {},
   "outputs": [],
   "source": []
  }
 ],
 "metadata": {
  "kernelspec": {
   "display_name": "Python 3",
   "language": "python",
   "name": "python3"
  },
  "language_info": {
   "codemirror_mode": {
    "name": "ipython",
    "version": 3
   },
   "file_extension": ".py",
   "mimetype": "text/x-python",
   "name": "python",
   "nbconvert_exporter": "python",
   "pygments_lexer": "ipython3",
   "version": "3.8.5"
  }
 },
 "nbformat": 4,
 "nbformat_minor": 4
}
